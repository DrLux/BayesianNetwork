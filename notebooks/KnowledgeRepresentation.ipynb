{
 "cells": [
  {
   "cell_type": "markdown",
   "metadata": {},
   "source": [
    "# Knowledge Representation\n",
    "\n",
    "This notebook serves as the supporting material for Chapter 12 **Knowledge Representation**. In this notebook we will show how to use the code repository to represent the most important aspects of the real world in first order logic, such as action, space, time, thoughts and shopping. In this notebook we will be building representations of various complex domains in first order logic. First, let's load the aima-jar."
   ]
  },
  {
   "cell_type": "code",
   "execution_count": 2,
   "metadata": {},
   "outputs": [
    {
     "data": {
      "application/vnd.jupyter.widget-view+json": {
       "model_id": "35ea531b-a7b3-4cde-bccc-0c0febe0fc21",
       "version_major": 2,
       "version_minor": 0
      },
      "method": "display_data"
     },
     "metadata": {},
     "output_type": "display_data"
    }
   ],
   "source": [
    "%classpath add jar ../out/artifacts/aima_core_jar/aima-core.jar"
   ]
  },
  {
   "cell_type": "markdown",
   "metadata": {},
   "source": [
    "## Categories and objects\n",
    "\n",
    "There are two choices for representing categories in first order logic, predicates and objects.That is, we can use the predicate $ Basketball (b)$ , or we can reify the category as an object, Basketballs. We could then say $Member (b, Basketballs )$, which we will abbreviate as $ b \\in Basketballs $ , to say that b is a member of the category of basketballs. We say $Subset(Basketballs, Balls)$, abbreviated as $ Basketballs \\subset Balls $, to say that Basketballs is a subcategory of Balls."
   ]
  },
  {
   "cell_type": "markdown",
   "metadata": {},
   "source": [
    "First-order logic makes it easy to state facts about categories, either by relating objects to categories or by quantifying over their members. Here are some types of facts, with\n",
    "examples of each:\n",
    "1. An object is a member of a category.<br>\n",
    "&nbsp;&nbsp;&nbsp;$BB_9 \\in Basketballs$\n",
    "2. A category is a subclass of another category.<br>\n",
    "&nbsp;&nbsp;&nbsp;$Basketballs \\subset Balls$\n",
    "3. All members of a category have some properties.<br>\n",
    "&nbsp;&nbsp;&nbsp;$(x \\in Basketballs) \\implies Spherical (x)$\n",
    "4. Members of a category can be recognized by some properties.<br>\n",
    "&nbsp;&nbsp;&nbsp;$Orange(x) \\wedge Round (x) \\wedge Diameter (x) = 9.5''  \\wedge x \\in Balls \\implies x \\in Basketballs$\n",
    "5. A category as a whole has some properties.<br>\n",
    "&nbsp;&nbsp;&nbsp;$Dogs \\in DomesticatedSpecies$\n",
    "\n",
    "Let us learn how to represent this using first order logic and the code repository. We will add the code written in each block to the Utils class at the end of the notebook so that the code can be reused. Let us create a basic domain for ontology creation that includes predicates like $Member()$ and $Subset()$. Other constants and presicates can then be later added to this domain."
   ]
  },
  {
   "cell_type": "code",
   "execution_count": 3,
   "metadata": {},
   "outputs": [
    {
     "data": {
      "text/plain": [
       "aima.core.logic.fol.domain.FOLDomain@7d887685"
      ]
     },
     "execution_count": 3,
     "metadata": {},
     "output_type": "execute_result"
    }
   ],
   "source": [
    "package aima.notebooks.knowledgerepresentation;\n",
    "\n",
    "import aima.core.logic.fol.domain.FOLDomain;\n",
    "\n",
    "FOLDomain domain = new FOLDomain();\n",
    "        domain.addPredicate(\"Member\");\n",
    "        domain.addPredicate(\"Subset\");\n",
    "        return domain.toString();"
   ]
  },
  {
   "cell_type": "markdown",
   "metadata": {},
   "source": [
    "Now, let's see how can we incorporate the above five facts into our ontology or knowledge base."
   ]
  },
  {
   "cell_type": "code",
   "execution_count": 5,
   "metadata": {},
   "outputs": [
    {
     "data": {
      "text/plain": [
       "Member(BB9,Basketballs)\n",
       "Subset(Basketballs,Balls)\n",
       "(Member(x,Basketballs) => Spherical(x))\n",
       "((((Orange(x) AND Round(x)) AND Diameter(x,Nine)) AND Member(x,Balls)) => Member(x,Basketballs))\n",
       "Member(Dogs,DomesticatedSpecies)\n"
      ]
     },
     "execution_count": 5,
     "metadata": {},
     "output_type": "execute_result"
    }
   ],
   "source": [
    "\n",
    "import aima.notebooks.knowledgerepresentation.Utils;\n",
    "import aima.core.logic.fol.domain.*;\n",
    "import aima.core.logic.fol.kb.*;\n",
    "\n",
    "FOLDomain domain = Utils.getOntologyBasicDomain();\n",
    "\n",
    "// Add the category basketballs to the domain\n",
    "domain.addConstant(\"Basketballs\");\n",
    "// Add the basketball BB9 to the domain\n",
    "domain.addConstant(\"BB9\");\n",
    "// Add the category Balls\n",
    "domain.addConstant(\"Balls\");\n",
    "domain.addConstant(\"Nine\");// because our knowledge doesnot include real numbers\n",
    "//Add relevant properties\n",
    "domain.addPredicate(\"Spherical\");\n",
    "domain.addPredicate(\"Round\");\n",
    "domain.addPredicate(\"Orange\");\n",
    "domain.addPredicate(\"Diameter\");\n",
    "domain.addConstant(\"Dogs\");\n",
    "domain.addConstant(\"DomesticatedSpecies\");\n",
    "// Create a knowledgebase\n",
    "FOLKnowledgeBase kb = new FOLKnowledgeBase(domain);\n",
    "\n",
    "//BB9 ∈ Basketballs\n",
    "kb.tell(\"Member(BB9, Basketballs)\");\n",
    "\n",
    "// Basketballs ⊂ Balls\n",
    "kb.tell(\"Subset(Basketballs,Balls)\");\n",
    "\n",
    "// ( x ∈ Basketballs ) ⇒ Spherical(x) \n",
    "kb.tell(\"(Member(x,Basketballs) => Spherical(x))\");\n",
    "\n",
    "// Orange(x) ∧ Round(x) ∧ Diameter(x) = 9.5″ ∧ x ∈ Balls ⇒ x ∈ Basketballs\n",
    "kb.tell(\"((((Orange(x) AND Round(x)) AND Diameter(x,Nine) AND Member(x, Balls))) => Member(x, Basketballs))\");\n",
    "\n",
    "// Dogs ∈ DomesticatedSpecies\n",
    "kb.tell(\"Member(Dogs,DomesticatedSpecies)\");\n",
    "\n",
    "return kb.toString();"
   ]
  },
  {
   "cell_type": "markdown",
   "metadata": {},
   "source": [
    "Now, as explained in the text we also require some other relations(such as being **disjoint**) for the categories. And even if we know that males and females\n",
    "are disjoint, we will not know that an animal that is not a male must be a female, unless\n",
    "we say that males and females constitute an exhaustive decomposition of the animals. A\n",
    "disjoint exhaustive decomposition is known as a partition. The following examples illustrate\n",
    "these three concepts:\n",
    "$$\n",
    "Disjoint(\\{Animals, Vegetables\\}) $$ $$\n",
    "ExhaustiveDecomposition (\\{Americans, Canadians , Mexicans\\},\n",
    "NorthAmericans)$$ $$\n",
    "Partition(\\{Males, Females\\}, Animals) $$\n",
    "\n",
    "Now, as far as first order logic is concerned the above three predicates can be defined as follows :\n",
    "$$ Disjoint(s) \\iff (\\forall c_1 , c_2\\quad c_1 \\in s \\wedge c_2 \\in s \\wedge c_1 \\neq c_2 \\implies Intersection(c_1 , c_2 ) = \\{ \\})$$\n",
    "$$ ExhaustiveDecomposition (s, c) \\iff (\\forall i\\quad i \\in c \\iff \\exists c_2 \\quad c_2 \\in s \\wedge i \\in c_2 )$$\n",
    "$$ Partition(s, c) \\iff Disjoint(s) \\wedge ExhaustiveDecomposition (s, c) $$"
   ]
  },
  {
   "cell_type": "markdown",
   "metadata": {},
   "source": [
    "In order to add these definitions we will have to expand our basic ontology domain to include a few more constants and predicates. The Intersection must be added as a function. Also we must add a constant called `Phi` for the empty set $\\phi$. Also we will later add the definition of intersection as follows:\n",
    "$$ x \\in A\\cap B \\iff (x\\in \\wedge x\\in B)$$"
   ]
  },
  {
   "cell_type": "code",
   "execution_count": 6,
   "metadata": {},
   "outputs": [
    {
     "data": {
      "text/plain": [
       "aima.core.logic.fol.domain.FOLDomain@5d20d41b"
      ]
     },
     "execution_count": 6,
     "metadata": {},
     "output_type": "execute_result"
    }
   ],
   "source": [
    "package aima.notebooks.knowledgerepresentation;\n",
    "\n",
    "import aima.core.logic.fol.domain.FOLDomain;\n",
    "\n",
    "FOLDomain domain = new FOLDomain();\n",
    "domain.addPredicate(\"Member\");\n",
    "domain.addPredicate(\"Subset\");\n",
    "domain.addPredicate(\"Disjoint\");\n",
    "domain.addPredicate(\"ExhaustiveDecomposition\");\n",
    "domain.addPredicate(\"Partition\");\n",
    "domain.addFunction(\"Intersection\");\n",
    "domain.addConstant(\"Phi\");\n",
    "return domain;"
   ]
  },
  {
   "cell_type": "markdown",
   "metadata": {},
   "source": [
    "Now let us create a knowledge base that incorporates the knowledge about categories and their partitions. We will call this categoryKb and we will improve it as we go ahead."
   ]
  },
  {
   "cell_type": "code",
   "execution_count": 7,
   "metadata": {},
   "outputs": [
    {
     "data": {
      "text/plain": [
       "x = x\n",
       "(x = y => y = x)\n",
       "((x = y AND y = z) => x = z)\n",
       "((x = y AND w = z) => Intersection(x,w) = Intersection(w,z))\n",
       "(((x = y AND v = w) AND Member(x,v)) => Member(y,w))\n",
       "(((x = y AND v = w) AND Disjoint(x,v)) => Disjoint(y,w))\n",
       "(((x = y AND v = w) AND ExhaustiveDecomposition(x,v)) => ExhaustiveDecomposition(y,w))\n",
       "(((x = y AND v = w) AND Partition(x,v)) => Partition(y,w))\n",
       "(Disjoint(s) <=> FORALL x y (((Member(x,s) AND Member(y,s)) AND NOT(x = y)) => Intersection(x,y) = Phi))\n",
       "(ExhaustiveDecomposition(s,c) <=> FORALL i (Member(i,c) => EXISTS c2 (Member(c2,s) AND Member(i,c2))))\n",
       "(Partition(s,c) <=> (Disjoint(s) AND ExhaustiveDecomposition(s)))\n",
       "(Member(x,Intersection(s,b)) <=> (Member(x,a) AND Member(x,b)))\n",
       "FORALL x NOT(Member(x,Phi))\n",
       "(Subset(a,b) <=> FORALL x (Member(x,a) => Member(x,b)))\n"
      ]
     },
     "execution_count": 7,
     "metadata": {},
     "output_type": "execute_result"
    }
   ],
   "source": [
    "package aima.notebooks.knowledgerepresentation;\n",
    "\n",
    "import aima.core.logic.fol.domain.*;\n",
    "import aima.core.logic.fol.kb.*;\n",
    "\n",
    "FOLDomain domain = Utils.getOntologyBasicDomain();\n",
    "FOLKnowledgeBase kb = new FOLKnowledgeBase(domain);\n",
    "// equality axioms\n",
    "// Reflexivity Axiom\n",
    "kb.tell(\"x = x\");\n",
    "// Symmetry Axiom\n",
    "kb.tell(\"(x = y => y = x)\");\n",
    "// Transitivity Axiom\n",
    "kb.tell(\"((x = y AND y = z) => x = z)\");\n",
    "// Function Intersection Substitution Axiom\n",
    "kb.tell(\"(( x = y AND w = z) => ( Intersection(x,w) = Intersection(w,z) ))\");\n",
    "// Predicate Substitution Axioms\n",
    "kb.tell(\"((x = y AND v = w AND Member(x,v)) => Member(y,w))\");\n",
    "kb.tell(\"((x = y AND v = w AND Disjoint(x,v)) => Disjoint(y,w))\");\n",
    "kb.tell(\"((x = y AND v = w AND ExhaustiveDecomposition(x,v)) => ExhaustiveDecomposition(y,w))\");\n",
    "kb.tell(\"((x = y AND v = w AND Partition(x,v)) => Partition(y,w))\");\n",
    "\n",
    "// Definition of disjoint Disjoint(s) ⟺ ( ∀ c1,c2 c1 ∈ s ∧ c2 ∈ s  ∧ c1 ≠ c2 ⟹ Intersection(c1,c2) = {})\n",
    "kb.tell(\" ( Disjoint(s) <=> (FORALL x,y (( Member(x,s) AND Member(y,s) AND (NOT ( x = y ))) => (Intersection(x,y) = Phi)))) \");\n",
    "\n",
    "// Definition of ExhaustiveDecomposition ExhaustiveDecomposition(s,c) ⟺ ( ∀i i ∈ c ⟺ ∃ c2 c2 ∈ s ∧ i ∈ c2 )\n",
    "kb.tell(\"(ExhaustiveDecomposition(s,c) <=> ( FORALL i ( Member(i,c) => (EXISTS c2 (Member(c2,s) AND Member(i,c2))))))\");\n",
    "\n",
    "// Definition of Partition\n",
    "kb.tell(\"(Partition(s,c) <=> ( Disjoint(s) AND ExhaustiveDecomposition(s)))\");\n",
    "\n",
    "// Definition for intersection\n",
    "kb.tell(\"( Member(x, Intersection(s,b)) <=> (Member(x,a) AND Member(x,b)))\");\n",
    "\n",
    "//Definition of Phi\n",
    "kb.tell(\"(FORALL x  NOT Member(x,Phi))\");\n",
    "\n",
    "kb.tell(\"(Subset(a,b) <=> (FORALL x (Member(x,a) => Member(x,b))))\");\n",
    "\n",
    "return kb;"
   ]
  },
  {
   "cell_type": "markdown",
   "metadata": {},
   "source": [
    "Now, let's ask our knowledge base whether **GermanShepherd** is an **animal** by telling it that **GermanShepherd is a Dog** and that **all dogs are animals**. "
   ]
  },
  {
   "cell_type": "code",
   "execution_count": 8,
   "metadata": {},
   "outputs": [
    {
     "name": "stdout",
     "output_type": "stream",
     "text": [
      "true\n",
      "false\n"
     ]
    },
    {
     "data": {
      "text/plain": [
       "null"
      ]
     },
     "execution_count": 8,
     "metadata": {},
     "output_type": "execute_result"
    }
   ],
   "source": [
    "import aima.notebooks.knowledgerepresentation.Utils;\n",
    "import aima.core.logic.fol.domain.*;\n",
    "import aima.core.logic.fol.kb.*;\n",
    "\n",
    "FOLDomain domain = new FOLDomain();\n",
    "domain.addConstant(\"GermanShepherd\");\n",
    "domain.addConstant(\"Dog\");\n",
    "domain.addConstant(\"Animals\");\n",
    "FOLKnowledgeBase kb = Utils.getCategoryKnowledgeBase(domain);\n",
    "kb.tell(\"Member(GermanShepherd,Dog)\");\n",
    "kb.tell(\"Subset(Dog,Animals)\");\n",
    "System.out.println(! kb.ask(\"Member(GermanShepherd,Animals)\").getProofs().isEmpty());\n",
    "System.out.println(! kb.ask(\"Member(Dog,Animals)\").getProofs().isEmpty());"
   ]
  },
  {
   "cell_type": "markdown",
   "metadata": {},
   "source": [
    "For future sections we will need this knowledge base with an extended domain. For this purpose, we have created some helper functions in the Utils class at the end  of the notebook."
   ]
  },
  {
   "cell_type": "markdown",
   "metadata": {},
   "source": [
    "## Physical composition"
   ]
  },
  {
   "cell_type": "markdown",
   "metadata": {},
   "source": [
    "To specify the composition of a particular object we need the **PartOf** hierarchy. This is similar to the subset hierarchy in a few aspects. The PartOf relation is transitive and reflexive. So, we have the following relations to add to our knowledge base.\n",
    "$$ PartOf (x, y) \\wedge PartOf (y, z) \\implies PartOf (x, z) $$\n",
    "$$ PartOf (x, x) $$\n",
    "\n",
    "We will use the following statements as our examples and then ask the knowledge base *if Bucharest is a part of Earth**.\n",
    "$$PartOf (Bucharest , Romania )$$\n",
    "$$PartOf (Romania, EasternEurope )$$\n",
    "$$PartOf (EasternEurope , Europe)$$\n",
    "$$PartOf (Europe, Earth)$$"
   ]
  },
  {
   "cell_type": "code",
   "execution_count": 9,
   "metadata": {},
   "outputs": [
    {
     "data": {
      "text/plain": [
       "isComplete=true\n",
       "result=[{}]"
      ]
     },
     "execution_count": 9,
     "metadata": {},
     "output_type": "execute_result"
    }
   ],
   "source": [
    "package aima.notebooks.knowledgerepresentation;\n",
    "\n",
    "import aima.core.logic.fol.domain.*;\n",
    "import aima.core.logic.fol.kb.*;\n",
    "\n",
    "FOLDomain domain = new FOLDomain();\n",
    "domain.addConstant(\"Bucharest\");\n",
    "domain.addConstant(\"Romania\");\n",
    "domain.addConstant(\"EasternEurope\");\n",
    "domain.addConstant(\"Europe\");\n",
    "domain.addConstant(\"Earth\");\n",
    "domain.addPredicate(\"PartOf\");\n",
    "\n",
    "FOLKnowledgeBase kb = Utils.getCategoryKnowledgeBase(domain);\n",
    "// now add the partof relation\n",
    "kb.tell(\"(FORALL x (PartOf(x,x)))\");\n",
    "kb.tell(\"((PartOf(x,y) AND PartOf(y,z)) => PartOf(x,z))\");\n",
    "\n",
    "// Now add the domain specific knowledge\n",
    "kb.tell(\"PartOf(Bucharest,Romania)\");\n",
    "kb.tell(\"PartOf(Romania,EasternEurope)\");\n",
    "kb.tell(\"PartOf(EasternEurope,Europe)\");\n",
    "kb.tell(\"PartOf(Europe,Earth)\");\n",
    "\n",
    "return kb.ask(\"PartOf(Bucharest,Earth)\");\n"
   ]
  },
  {
   "cell_type": "markdown",
   "metadata": {},
   "source": [
    "We motivate you to try the **Biped(a)** and **BunchOf(s)** relations from the book using the APIs from the code."
   ]
  },
  {
   "cell_type": "markdown",
   "metadata": {},
   "source": [
    "## Measurements\n",
    "\n",
    "Measurements play an important role in understanding the world around us. They are an important dimension in the description of the world. To represent measurements, we can assume that the universe includes abstract measure objects such as \"Length\" (maybe the entire set of physical quantities or just the seven fundamental ones). Then, we can have unit functions that take numbers as arguements. We can easily represent the following sentences in first order logic by a process similar to the one demonstrated above.\n",
    "$$ Diameter (Basketball 12 ) = Inches(9.5) $$\n",
    "$$ ListPrice(Basketball 12 ) = \\$(19) $$\n",
    "$$ d \\in Days \\implies Duration(d) = Hours(24) $$\n",
    "\n",
    "The most important thing about measures is not the particular numerical values but the fact that the measures can be ordered. We will code the following example which demonstrates the necessity of ordering for measures quantities. Till now we have not added $LessThan$ and $GreaterThan$ predicates. Let's add them. They are exactly similar to the $PartOf$ predicate.\n",
    "$$e_1 \\in Exercises \\wedge e_2 \\in Exercises \\wedge Wrote(Norvig, e_1 ) \\wedge Wrote(Russell , e_2 ) \\implies\n",
    "Difficulty(e_1 ) > Difficulty(e_2 ) $$\n",
    "$$e_1 \\in Exercises \\wedge e_2 \\in Exercises \\wedge Difficulty(e_1 ) > Difficulty(e_2 ) \\implies\n",
    "ExpectedScore (e_1 ) < ExpectedScore (e_2 )$$"
   ]
  },
  {
   "cell_type": "code",
   "execution_count": 10,
   "metadata": {},
   "outputs": [
    {
     "data": {
      "text/plain": [
       "x = x\n",
       "(x = y => y = x)\n",
       "((x = y AND y = z) => x = z)\n",
       "((x = y AND w = z) => Intersection(x,w) = Intersection(w,z))\n",
       "(((x = y AND v = w) AND Member(x,v)) => Member(y,w))\n",
       "(((x = y AND v = w) AND Disjoint(x,v)) => Disjoint(y,w))\n",
       "(((x = y AND v = w) AND ExhaustiveDecomposition(x,v)) => ExhaustiveDecomposition(y,w))\n",
       "(((x = y AND v = w) AND Partition(x,v)) => Partition(y,w))\n",
       "(Disjoint(s) <=> FORALL x y (((Member(x,s) AND Member(y,s)) AND NOT(x = y)) => Intersection(x,y) = Phi))\n",
       "(ExhaustiveDecomposition(s,c) <=> FORALL i (Member(i,c) => EXISTS c2 (Member(c2,s) AND Member(i,c2))))\n",
       "(Partition(s,c) <=> (Disjoint(s) AND ExhaustiveDecomposition(s)))\n",
       "(Member(x,Intersection(s,b)) <=> (Member(x,a) AND Member(x,b)))\n",
       "FORALL x NOT(Member(x,Phi))\n",
       "(Subset(a,b) <=> FORALL x (Member(x,a) => Member(x,b)))\n",
       "FORALL x PartOf(x,x)\n",
       "((PartOf(x,y) AND PartOf(y,z)) => PartOf(x,z))\n",
       "((LessThan(x,y) AND LessThan(y,z)) => LessThan(x,z))\n",
       "((GreaterThan(x,y) AND GreaterThan(y,z)) => GreaterThan(x,z))\n",
       "(LessThan(x,y) <=> GreaterThan(y,x))\n",
       "((((Member(e1,Exercises) AND Member(e2,Exercises)) AND Wrote(Norvig,e1)) AND Wrote(Russell,e2)) => GreaterThan(Difficulty(e1),Difficulty(e2)))\n"
      ]
     },
     "execution_count": 10,
     "metadata": {},
     "output_type": "execute_result"
    }
   ],
   "source": [
    "package aima.notebooks.knowledgerepresentation;\n",
    "\n",
    "import aima.core.logic.fol.domain.*;\n",
    "import aima.core.logic.fol.kb.*;\n",
    "\n",
    "FOLDomain domain = new FOLDomain();\n",
    "domain.addConstant(\"Exercises\");\n",
    "domain.addConstant(\"Norvig\");\n",
    "domain.addConstant(\"Russell\");\n",
    "domain.addFunction(\"Difficulty\");\n",
    "domain.addFunction(\"ExpectedScore\");\n",
    "domain.addPredicate(\"Wrote\");\n",
    "domain.addPredicate(\"LessThan\");\n",
    "domain.addPredicate(\"GreaterThan\");\n",
    "\n",
    "FOLKnowledgeBase kb = Utils.getCategoryKnowledgeBase(domain);\n",
    "\n",
    "// Now add the domain specific knowledge\n",
    "kb.tell(\"((Member(e1,Exercises) AND Member(e2, Exercises) AND Wrote(Norvig,e1)\"+\n",
    "        \" AND Wrote(Russell,e2)) => (GreaterThan(Difficulty(e1), Difficulty(e2))))\");\n",
    "\n",
    "return kb;"
   ]
  },
  {
   "cell_type": "markdown",
   "metadata": {},
   "source": [
    "Try adding the second condition and experimenting with the knowledge base. Also try to build an ontology about **things and stuff**( Section 12.2.1)."
   ]
  },
  {
   "cell_type": "markdown",
   "metadata": {},
   "source": [
    "## Events "
   ]
  },
  {
   "cell_type": "markdown",
   "metadata": {},
   "source": [
    "In the earlier sections, we learnt about **Situation Calculus**. However, in this notebook we will look at an alternate formalism known as **Event Calculus** which is based on points of time rather than situations. Event calculus reifies fluents and events. (For examples, refer text). We will represent time intervals by the $Interval(i_1,i_2)$ function($i_1$ represents start time and $i_2$ the finish time). We will use the version of event calculus described in the text which consist of the following predicates:\n",
    "\n",
    "$T (f, t)$&nbsp;&nbsp;&nbsp;&nbsp;&nbsp;&nbsp; Fluent $f $is true at time $t$\n",
    "\n",
    "$Happens(e, i)$&nbsp;&nbsp;&nbsp;&nbsp;&nbsp;&nbsp;&nbsp;&nbsp;&nbsp;&nbsp;&nbsp;&nbsp;  Event $e$ happens over the time interval $i$\n",
    "\n",
    "$Initiates(e, f, t)$&nbsp;&nbsp;&nbsp;&nbsp;&nbsp;&nbsp; Event $e $ causes fluent $f$ to start to hold at time $t$\n",
    "\n",
    "$Terminates(e, f, t)$&nbsp;&nbsp;&nbsp;&nbsp;&nbsp;&nbsp; Event $ e$ causes fluent $f$ to cease to hold at time $t$\n",
    "\n",
    "$Clipped (f, i) $&nbsp;&nbsp;&nbsp;&nbsp;&nbsp;&nbsp;  Fluent $f$ ceases to be true at some point during time interval $i$\n",
    "\n",
    "$Restored (f, i)$&nbsp;&nbsp;&nbsp;&nbsp;&nbsp;&nbsp; Fluent $f$ becomes true sometime during time interval $i$\n",
    "\n",
    "The axioms defining the above predicate are as follows:\n",
    "\n",
    "$Happens(e, (t_1 , t_2 )) \\wedge Initiates(e, f, t_1 ) \\wedge \\neg Clipped (f, (t_1 , t)) \\wedge t_1 < t \\implies$\n",
    "\n",
    "&nbsp;&nbsp;&nbsp;&nbsp;&nbsp;&nbsp;$T (f, t)$\n",
    "\n",
    "$Happens(e, (t_1 , t_2 )) \\wedge Terminates(e, f, t_1 ) \\wedge \\neg Restored (f, (t_1 , t)) \\wedge t_1 < t \\implies$\n",
    "\n",
    "&nbsp;&nbsp;&nbsp;&nbsp;&nbsp;$\\neg T (f, t)$\n",
    "\n",
    "$Clipped (f, (t_1 , t_2 )) \\iff$\n",
    "\n",
    "&nbsp;&nbsp;&nbsp;&nbsp;&nbsp;$ \\exists e, t, t_3 Happens(e, (t, t_3 )) \\wedge t_1 \\leq t < t_2 \\wedge Terminates(e, f, t)$\n",
    "\n",
    "$Restored (f, (t_1 , t_2 )) \\iff$\n",
    "\n",
    "&nbsp;&nbsp;&nbsp;&nbsp;&nbsp;$\\exists e, t, t_3 Happens(e, (t, t_3 )) \\wedge t_1 \\leq t < t_2 \\wedge Initiates(e, f, t)$\n"
   ]
  },
  {
   "cell_type": "markdown",
   "metadata": {},
   "source": [
    "All these axioms can be included in the kb in a way similar to the one used above. Now we will look at an interesting application of Knowledge Representation - **The Internet Shopping World**."
   ]
  },
  {
   "cell_type": "markdown",
   "metadata": {},
   "source": [
    "## The Internet Shopping World\n",
    "\n",
    "In this final section we put together all we have learned to encode knowledge for a shopping\n",
    "research agent that helps a buyer find product offers on the Internet. The shopping agent is\n",
    "given a product description by the buyer and has the task of producing a list of Web pages\n",
    "that offer such a product for sale, and ranking which offers are best. For a detailed description of the shopping world refer the text. Here, we will briefly state axioms and then use them in the knowledge base."
   ]
  },
  {
   "cell_type": "markdown",
   "metadata": {},
   "source": [
    "### Following links\n",
    "The strategy is to start at the home page of an online store and consider all pages that can be\n",
    "reached by following relevant links.The agent will have knowledge of a number of stores,\n",
    "for example:\n",
    "\n",
    "$Amazon \\in OnlineStores \\wedge Homepage(Amazon, $“$amazon.com$”$) $\n",
    "\n",
    "$Ebay \\in OnlineStores \\wedge Homepage(Ebay, $“$ebay.com$”$)$ \n",
    "\n",
    "Now, a page is relevant to the query if it\n",
    "can be reached by a chain of zero or more relevant category links from a store’s home page,\n",
    "and then from one more link to the product offer. We can define relevance:\n",
    "\n",
    "$Relevant (page, query) \\iff$\n",
    "\n",
    "&nbsp;&nbsp;&nbsp;&nbsp;&nbsp;&nbsp;&nbsp;&nbsp;$\\exists store, home store \\in \n",
    "OnlineStores \\wedge Homepage(store, home)$\n",
    "\n",
    "&nbsp;&nbsp;&nbsp;&nbsp;&nbsp;&nbsp;&nbsp;&nbsp;&nbsp;&nbsp;&nbsp;&nbsp;$\\wedge \\exists url , url_2 RelevantChain(home, url_2 , query) \\wedge Link (url_2 , url )$\n",
    "\n",
    "&nbsp;&nbsp;&nbsp;&nbsp;&nbsp;&nbsp;&nbsp;&nbsp;&nbsp;&nbsp;&nbsp;&nbsp;&nbsp;&nbsp;&nbsp;&nbsp;&nbsp;&nbsp;$\\wedge page = Contents(url )$\n",
    "\n",
    "Here the predicate Link (from, to) means that there is a hyperlink from the from URL to\n",
    "the to URL. To define what counts as a RelevantChain, we need to follow not just any old\n",
    "hyperlinks, but only those links whose associated anchor text indicates that the link is relevant\n",
    "to the product query. For this, we use LinkText(from, to, text) to mean that there is a link\n",
    "between from and to with text as the anchor text. A chain of links between two URLs, start\n",
    "and end, is relevant to a description d if the anchor text of each link is a relevant category\n",
    "name for d. The existence of the chain itself is determined by a recursive definition, with the\n",
    "empty chain (start = end ) as the base case:\n",
    "\n",
    "$RelevantChain(start , end , query) \\iff (start = end )$\n",
    "\n",
    "&nbsp;&nbsp;&nbsp;&nbsp;&nbsp;&nbsp;&nbsp;&nbsp;$\\vee (\\exists u, text LinkText(start , u, text ) \\wedge RelevantCategoryName (query, text )$\n",
    "\n",
    "&nbsp;&nbsp;&nbsp;&nbsp;&nbsp;&nbsp;&nbsp;&nbsp;&nbsp;&nbsp;&nbsp;&nbsp;&nbsp;&nbsp;&nbsp;&nbsp;$\\wedge RelevantChain(u, end , query))$\n",
    "\n",
    "The $RelevantCategoryName (query, text )$ is true when one of the following holds:\n",
    "* The text and query name the same category—e.g., “notebooks” and “laptops.”\n",
    "* The text names a supercategory such as “computers.”\n",
    "* The text names a subcategory such as “ultralight notebooks.”\n",
    "\n",
    "The logical definition of RelevantCategoryName is as follows:\n",
    "\n",
    "$RelevantCategoryName (query, text ) \\iff$\n",
    "$ (query \\subset text \\vee text \\subset query )$"
   ]
  },
  {
   "cell_type": "markdown",
   "metadata": {},
   "source": [
    "Now,the only missing element\n",
    "is the Contents(url ) function, which refers to the HTML page at a given URL. The agent\n",
    "doesn’t have the page contents of every URL in its knowledge base; nor does it have explicit\n",
    "rules for deducing what those contents might be. Instead, we can arrange for the right HTTP\n",
    "procedure to be executed whenever a subgoal involves the Contents function. In this way, it\n",
    "appears to the inference engine as if the entire Web is inside the knowledge base. This is an\n",
    "example of a general technique called **procedural attachment**, whereby particular predicates\n",
    "and functions can be handled by special-purpose methods.\n",
    "\n",
    "We also need a large taxonomy of categories as mentioned in figure 12.9. For a real world system, enlisting around a thousand categories would be useful for the customer.Now, let us encode this into our knowledge base:"
   ]
  },
  {
   "cell_type": "code",
   "execution_count": 32,
   "metadata": {},
   "outputs": [
    {
     "data": {
      "text/plain": [
       "x = x\n",
       "(x = y => y = x)\n",
       "((x = y AND y = z) => x = z)\n",
       "((x = y AND w = z) => Intersection(x,w) = Intersection(w,z))\n",
       "(((x = y AND v = w) AND Member(x,v)) => Member(y,w))\n",
       "(((x = y AND v = w) AND Disjoint(x,v)) => Disjoint(y,w))\n",
       "(((x = y AND v = w) AND ExhaustiveDecomposition(x,v)) => ExhaustiveDecomposition(y,w))\n",
       "(((x = y AND v = w) AND Partition(x,v)) => Partition(y,w))\n",
       "(Disjoint(s) <=> FORALL x y (((Member(x,s) AND Member(y,s)) AND NOT(x = y)) => Intersection(x,y) = Phi))\n",
       "(ExhaustiveDecomposition(s,c) <=> FORALL i (Member(i,c) => EXISTS c2 (Member(c2,s) AND Member(i,c2))))\n",
       "(Partition(s,c) <=> (Disjoint(s) AND ExhaustiveDecomposition(s)))\n",
       "(Member(x,Intersection(s,b)) <=> (Member(x,a) AND Member(x,b)))\n",
       "FORALL x NOT(Member(x,Phi))\n",
       "(Subset(a,b) <=> FORALL x (Member(x,a) => Member(x,b)))\n",
       "FORALL x PartOf(x,x)\n",
       "((PartOf(x,y) AND PartOf(y,z)) => PartOf(x,z))\n",
       "((LessThan(x,y) AND LessThan(y,z)) => LessThan(x,z))\n",
       "((GreaterThan(x,y) AND GreaterThan(y,z)) => GreaterThan(x,z))\n",
       "(LessThan(x,y) <=> GreaterThan(y,x))\n",
       "(Member(Amazon,OnlineStores) AND Homepage(Amazon,amazon))\n",
       "(Member(Ebay,OnlineStores) AND Homepage(Ebay,ebay))\n",
       "(Relevant(page,query) <=> (((EXISTS store home Member(store,OnlineStores) AND Homepage(store,home)) AND (EXISTS url url2 RelevantChain(home,url2,query) AND Link(url2,url))) AND page = Contents(url)))\n",
       "(RelevantChain(start,end,query) <=> (start = end OR EXISTS u text ((LinkText(start,u,text) AND RelevantCategoryName(query,text)) AND RelevantChain(u,end,query))))\n",
       "(RelevantCategoryName(query,text) <=> (EXISTS c1 c2 Subset(c1,c2) OR Subset(c2,c1)))\n"
      ]
     },
     "execution_count": 32,
     "metadata": {},
     "output_type": "execute_result"
    }
   ],
   "source": [
    "package aima.notebooks.knowledgerepresentation;\n",
    "\n",
    "import aima.core.logic.fol.domain.*;\n",
    "import aima.core.logic.fol.kb.*;\n",
    "\n",
    "FOLDomain domain = new FOLDomain();\n",
    "domain.addConstant(\"Amazon\");\n",
    "domain.addConstant(\"Ebay\");\n",
    "domain.addConstant(\"amazon\");\n",
    "domain.addConstant(\"ebay\");\n",
    "domain.addConstant(\"OnlineStores\");\n",
    "domain.addConstant(\"ebay\");\n",
    "domain.addFunction(\"Contents\");\n",
    "domain.addPredicate(\"Relevant\");\n",
    "domain.addPredicate(\"Link\");\n",
    "domain.addPredicate(\"LinkText\");\n",
    "domain.addPredicate(\"RelevantCategoryName\");\n",
    "domain.addPredicate(\"RelevantChain\");\n",
    "domain.addPredicate(\"Homepage\");\n",
    "\n",
    "FOLKnowledgeBase kb = Utils.getCategoryKnowledgeBase(domain);\n",
    "\n",
    "// Now add the domain specific knowledge\n",
    "kb.tell(\"(Member(Amazon, OnlineStores) AND Homepage(Amazon,amazon))\");\n",
    "kb.tell(\"(Member(Ebay, OnlineStores) AND Homepage(Ebay,ebay))\");\n",
    "kb.tell(\"(Relevant(page,query) <=>\"+\n",
    "       \"((EXISTS store,home Member(store,OnlineStores) AND Homepage(store,home))\"+\n",
    "        \" AND (EXISTS url,url2 RelevantChain(home,url2,query) AND Link(url2,url)) AND (page = Contents(url))))\");\n",
    "kb.tell(\"(RelevantChain(start,end,query) <=> ((start = end) OR (EXISTS u,text (LinkText(start,u,text)\"+\n",
    "        \" AND RelevantCategoryName(query,text) AND RelevantChain(u,end,query)))))\");\n",
    "kb.tell(\"(RelevantCategoryName(query,text) <=> (EXISTS c1,c2 Subset(c1,c2) OR Subset(c2,c1)))\");\n",
    "\n",
    "return kb;"
   ]
  },
  {
   "cell_type": "markdown",
   "metadata": {},
   "source": [
    "This concludes our implementation of a really simple Internet Shopping Agent, It can be extended to use a variety of axioms and Inference procedures.However, this agent has enough capability that with the right domain-specific knowledge it can\n",
    "actually be of use to a shopper. Because of its declarative construction, it extends easily to\n",
    "more complex applications. The main point of this section is to show that some knowledge\n",
    "representation—in particular, the product hierarchy—is necessary for such an agent, and that\n",
    "once we have some knowledge in this form, the rest follows naturally."
   ]
  },
  {
   "cell_type": "markdown",
   "metadata": {},
   "source": [
    "## The Utils Helper Class"
   ]
  },
  {
   "cell_type": "code",
   "execution_count": 33,
   "metadata": {},
   "outputs": [
    {
     "data": {
      "text/plain": [
       "aima.notebooks.knowledgerepresentation.Utils"
      ]
     },
     "execution_count": 33,
     "metadata": {},
     "output_type": "execute_result"
    }
   ],
   "source": [
    "package aima.notebooks.knowledgerepresentation;\n",
    "\n",
    "import aima.core.logic.fol.domain.*;\n",
    "import aima.core.logic.fol.kb.*;\n",
    "\n",
    "public class Utils{\n",
    "    \n",
    "    public static FOLDomain getOntologyBasicDomain(){\n",
    "        FOLDomain domain = new FOLDomain();\n",
    "        domain.addPredicate(\"Member\");\n",
    "        domain.addPredicate(\"Subset\");\n",
    "        domain.addPredicate(\"Disjoint\");\n",
    "        domain.addPredicate(\"ExhaustiveDecomposition\");\n",
    "        domain.addPredicate(\"Partition\");\n",
    "        domain.addFunction(\"Intersection\");\n",
    "        domain.addConstant(\"Phi\");\n",
    "        return domain;\n",
    "    }\n",
    "    \n",
    "    public static FOLDomain getFiveExampleDomain(){\n",
    "        FOLDomain domain = Utils.getOntologyBasicDomain();\n",
    "        // Add the category basketballs to the domain\n",
    "        domain.addConstant(\"Basketballs\");\n",
    "        // Add the basketball BB9 to the domain\n",
    "        domain.addConstant(\"BB9\");\n",
    "        // Add the category Balls\n",
    "        domain.addConstant(\"Balls\");\n",
    "        domain.addConstant(\"Nine\");// because our knowledge doesnot include real numbers\n",
    "        //Add relevant properties\n",
    "        domain.addPredicate(\"Spherical\");\n",
    "        domain.addPredicate(\"Round\");\n",
    "        domain.addPredicate(\"Orange\");\n",
    "        domain.addPredicate(\"Diameter\");\n",
    "        domain.addConstant(\"Dogs\");\n",
    "        domain.addConstant(\"DomesticatedSpecies\");\n",
    "        return domain;\n",
    "    }\n",
    "    \n",
    "    public static FOLKnowledgeBase getFiveExampleKnowledgeBase(){\n",
    "        FOLKnowledgeBase kb = new FOLKnowledgeBase(Utils.getOntologyBasicDomain());\n",
    "\n",
    "        //BB9 ∈ Basketballs\n",
    "        kb.tell(\"Member(BB9, Basketballs)\");\n",
    "\n",
    "        // Basketballs ⊂ Balls\n",
    "        kb.tell(\"Subset(Basketballs,Balls)\");\n",
    "\n",
    "        // ( x ∈ Basketballs ) ⇒ Spherical(x) \n",
    "        kb.tell(\"(Member(x,Basketballs) => Spherical(x))\");\n",
    "\n",
    "        // Orange(x) ∧ Round(x) ∧ Diameter(x) = 9.5″ ∧ x ∈ Balls ⇒ x ∈ Basketballs\n",
    "        kb.tell(\"((((Orange(x) AND Round(x)) AND Diameter(x,Nine) AND Member(x, Balls))) => Member(x, Basketballs))\");\n",
    "\n",
    "        // Dogs ∈ DomesticatedSpecies\n",
    "        kb.tell(\"Member(Dogs,DomesticatedSpecies)\");\n",
    "        \n",
    "        return kb;\n",
    "\n",
    "    }\n",
    "    \n",
    "    public static FOLKnowledgeBase getCategoryKnowledgeBase(FOLDomain domain){\n",
    "        domain.addPredicate(\"Member\");\n",
    "        domain.addPredicate(\"Subset\");\n",
    "        domain.addPredicate(\"Disjoint\");\n",
    "        domain.addPredicate(\"ExhaustiveDecomposition\");\n",
    "        domain.addPredicate(\"Partition\");\n",
    "        domain.addFunction(\"Intersection\");\n",
    "        domain.addConstant(\"Phi\");\n",
    "        domain.addPredicate(\"PartOf\");\n",
    "        domain.addPredicate(\"LessThan\");\n",
    "        domain.addPredicate(\"GreaterThan\");\n",
    "        \n",
    "        FOLKnowledgeBase kb = new FOLKnowledgeBase(domain);\n",
    "        // equality axioms\n",
    "        // Reflexivity Axiom\n",
    "        kb.tell(\"x = x\");\n",
    "        // Symmetry Axiom\n",
    "        kb.tell(\"(x = y => y = x)\");\n",
    "        // Transitivity Axiom\n",
    "        kb.tell(\"((x = y AND y = z) => x = z)\");\n",
    "        // Function Intersection Substitution Axiom\n",
    "        kb.tell(\"(( x = y AND w = z) => ( Intersection(x,w) = Intersection(w,z) ))\");\n",
    "        // Predicate Substitution Axioms\n",
    "        kb.tell(\"((x = y AND v = w AND Member(x,v)) => Member(y,w))\");\n",
    "        kb.tell(\"((x = y AND v = w AND Disjoint(x,v)) => Disjoint(y,w))\");\n",
    "        kb.tell(\"((x = y AND v = w AND ExhaustiveDecomposition(x,v)) => ExhaustiveDecomposition(y,w))\");\n",
    "        kb.tell(\"((x = y AND v = w AND Partition(x,v)) => Partition(y,w))\");\n",
    "\n",
    "        // Definition of disjoint Disjoint(s) ⟺ ( ∀ c1,c2 c1 ∈ s ∧ c2 ∈ s  ∧ c1 ≠ c2 ⟹ Intersection(c1,c2) = {})\n",
    "        kb.tell(\" ( Disjoint(s) <=> (FORALL x,y (( Member(x,s) AND Member(y,s) AND (NOT ( x = y ))) => (Intersection(x,y) = Phi)))) \");\n",
    "\n",
    "        // Definition of ExhaustiveDecomposition ExhaustiveDecomposition(s,c) ⟺ ( ∀i i ∈ c ⟺ ∃ c2 c2 ∈ s ∧ i ∈ c2 )\n",
    "        kb.tell(\"(ExhaustiveDecomposition(s,c) <=> ( FORALL i ( Member(i,c) => (EXISTS c2 (Member(c2,s) AND Member(i,c2))))))\");\n",
    "\n",
    "        // Definition of Partition\n",
    "        kb.tell(\"(Partition(s,c) <=> ( Disjoint(s) AND ExhaustiveDecomposition(s)))\");\n",
    "\n",
    "        // Definition for intersection\n",
    "        kb.tell(\"( Member(x, Intersection(s,b)) <=> (Member(x,a) AND Member(x,b)))\");\n",
    "    \n",
    "        //Definition of Phi\n",
    "        kb.tell(\"(FORALL x  NOT Member(x,Phi))\");\n",
    "        \n",
    "        kb.tell(\"(Subset(a,b) <=> (FORALL x (Member(x,a) => Member(x,b))))\");\n",
    "        \n",
    "        // now add the partof relation\n",
    "        kb.tell(\"(FORALL x (PartOf(x,x)))\");\n",
    "        kb.tell(\"((PartOf(x,y) AND PartOf(y,z)) => PartOf(x,z))\");\n",
    "        \n",
    "        //ordering axioms\n",
    "        kb.tell(\"((LessThan(x,y) AND LessThan(y,z)) => LessThan(x,z))\");\n",
    "        kb.tell(\"((GreaterThan(x,y) AND GreaterThan(y,z)) => GreaterThan(x,z))\");\n",
    "        kb.tell(\"(LessThan(x,y) <=> GreaterThan(y,x))\");\n",
    "        \n",
    "        return kb;\n",
    "    }\n",
    "}\n"
   ]
  },
  {
   "cell_type": "code",
   "execution_count": null,
   "metadata": {},
   "outputs": [],
   "source": []
  }
 ],
 "metadata": {
  "kernelspec": {
   "display_name": "Java",
   "language": "java",
   "name": "java"
  },
  "language_info": {
   "codemirror_mode": "text/x-java",
   "file_extension": ".java",
   "mimetype": "",
   "name": "Java",
   "nbconverter_exporter": "",
   "version": "1.8.0_161"
  },
  "toc": {
   "base_numbering": 1,
   "nav_menu": {},
   "number_sections": false,
   "sideBar": false,
   "skip_h1_title": false,
   "title_cell": "Table of Contents",
   "title_sidebar": "Contents",
   "toc_cell": false,
   "toc_position": {},
   "toc_section_display": false,
   "toc_window_display": false
  }
 },
 "nbformat": 4,
 "nbformat_minor": 2
}
