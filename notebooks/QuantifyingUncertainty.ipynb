{
 "cells": [
  {
   "cell_type": "markdown",
   "metadata": {},
   "source": [
    "# Quantifying Uncertainty\n",
    "This notebook serves as the supporting material for Chapter 13 **Quantifying Uncertainty**. In this notebook we will show how to use the code repository to tame unceratinty with degrees of belief. In this notebook we will concentrate on the task of representing and computing with probabilistic information in general. First, let's load the aima-jar."
   ]
  },
  {
   "cell_type": "code",
   "execution_count": 17,
   "metadata": {},
   "outputs": [],
   "source": [
    "%classpath add jar ../out/artifacts/aima_core_jar/aima-core.jar"
   ]
  },
  {
   "cell_type": "markdown",
   "metadata": {},
   "source": [
    "## Basic Probability Notion\n",
    "For our agent to represent and use probabilistic information, we need a formal language. Appendix A(from text) includes a standard introduction to\n",
    "elementary probability theory. Here, we take an approach more suited to the needs of AI and\n",
    "more consistent with the concepts of formal logic.\n",
    "\n",
    "In probability\n",
    "theory, the set of all possible worlds is called the **sample space**. The possible worlds are\n",
    "mutually exclusive and exhaustive—two possible worlds cannot both be the case, and one\n",
    "possible world must be the case. For example, if we are about to roll two (distinguishable)\n",
    "dice, there are $36$ possible worlds to consider: $(1,1), (1,2), . . ., (6,6)$. The Greek letter $\\Omega$\n",
    "(uppercase omega) is used to refer to the sample space, and $\\omega$ (lowercase omega) refers to\n",
    "elements of the space, that is, particular possible worlds.\n",
    "\n",
    "A fully specified **probability model** associates a numerical probability $P (\\omega)$ with each\n",
    "possible world.The basic axioms of probability theory say that every possible world has a\n",
    "probability between 0 and 1 and that the total probability of the set of possible worlds is 1\n",
    "\n",
    "$0 \\leq P (\\omega) \\leq 1$ for every $\\omega$ and $\\displaystyle\\sum_{\\omega \\in \\Omega}P (\\omega) = 1$\n",
    "\n",
    "For example, if we assume that each die is fair and the rolls don’t interfere with each other,\n",
    "then each of the possible worlds (1,1), (1,2), . . ., (6,6) has probability $frac{1}{36}$. On the other\n",
    "hand, if the dice conspire to produce the same number, then the worlds (1,1), (2,2), (3,3), etc.,\n",
    "might have higher probabilities, leaving the others with lower probabilities.\n",
    "\n",
    "Probabilistic assertions and queries are not usually about particular possible worlds, but\n",
    "about sets of them.In AI,\n",
    "the sets are always described by propositions in a formal language.Propositions describing sets of possible worlds are written in a notation that combines elements of propositional logic and constraint satisfaction notation.The probability associated with a proposition is defined to be the sum of the probabilities of the worlds in which it holds\n",
    "\n",
    "For any proposition, $\\phi, P(\\phi) = \\displaystyle\\sum_{\\omega in \\phi} P(\\omega)$.\n",
    "\n",
    "The code repository already contains a variety of propositions in the [proposition module](https://github.com/aimacode/aima-java/tree/AIMA3e/aima-core/src/main/java/aima/core/probability/proposition). However, to implement a custom proposition, we can always extend the Proposition interface which is as follows :\n",
    "\n",
    "````java\n",
    "\n",
    "public interface Proposition {\n",
    "\t/**\n",
    "\t * \n",
    "\t * @return the Set of RandomVariables in the World (sample space) that this\n",
    "\t *         Proposition is applicable to.\n",
    "\t */\n",
    "\tSet<RandomVariable> getScope();\n",
    "\n",
    "\t/**\n",
    "\t * \n",
    "\t * @return the Set of RandomVariables from this propositions scope that are\n",
    "\t *         not constrained to any particular set of values (e.g. bound =\n",
    "\t *         P(Total = 11), while unbound = P(Total)). If a variable is\n",
    "\t *         unbound it implies the distributions associated with the variable\n",
    "\t *         is being sought.\n",
    "\t */\n",
    "\tSet<RandomVariable> getUnboundScope();\n",
    "\n",
    "\t/**\n",
    "\t * Determine whether or not the proposition holds in a particular possible\n",
    "\t * world.\n",
    "\t * \n",
    "\t * @param possibleWorld\n",
    "\t *            A possible world is defined to be an assignment of values to\n",
    "\t *            all of the random variables under consideration.\n",
    "\t * @return true if the proposition holds in the given possible world, false\n",
    "\t *         otherwise.\n",
    "\t */\n",
    "\tboolean holds(Map<RandomVariable, Object> possibleWorld);\n",
    "}\n",
    "````\n",
    "\n",
    "Variables in probability theory are called **random variables** and their names begin with\n",
    "an uppercase letter. Every random variable has a domain. For eg, in the random event of throwing two dice simultaneously, let $Total$ represent the sum of the numbers on the dice and let $Die_1$ represent the number on the first die. Thus, in the dice example, Total and Die 1 are random variables. The domain of\n",
    "Total for two dice is the set {2, . . . , 12} and the domain of Die 1 is {1, . . . , 6}. The code repository already contains a lot of implemented domains and random variables, but let us create our own custom random variable and a custom domain for the dice example above\n",
    "We will first implement a domain for the dice example using AbstractFiniteDomain class which is an extra layer on our Domain interface.\n",
    "\n"
   ]
  },
  {
   "cell_type": "code",
   "execution_count": 18,
   "metadata": {},
   "outputs": [
    {
     "data": {
      "text/plain": [
       "aima.notebooks.quantifyinguncertainty.TotalDiceDomain"
      ]
     },
     "execution_count": 18,
     "metadata": {},
     "output_type": "execute_result"
    }
   ],
   "source": [
    "package aima.notebooks.quantifyinguncertainty;\n",
    "\n",
    "import aima.core.probability.domain.*;\n",
    "import java.util.*;\n",
    "\n",
    "class TotalDiceDomain extends AbstractFiniteDomain{\n",
    "    \n",
    "    Set<Integer> values = new HashSet<>();\n",
    "    \n",
    "    public TotalDiceDomain(){\n",
    "        for(int i =2;i<=12;i++){\n",
    "            values.add(i);\n",
    "        }\n",
    "    }\n",
    "    \n",
    "    \n",
    "    @Override\n",
    "    public int size(){\n",
    "        return values.size();\n",
    "    }\n",
    "    \n",
    "    @Override\n",
    "    public boolean isOrdered(){\n",
    "        return true;\n",
    "    }\n",
    "    \n",
    "    @Override\n",
    "    public Set<Integer> getPossibleValues(){\n",
    "        return values;\n",
    "    }\n",
    "}"
   ]
  },
  {
   "cell_type": "code",
   "execution_count": 19,
   "metadata": {},
   "outputs": [
    {
     "data": {
      "text/plain": [
       "aima.notebooks.quantifyinguncertainty.TotalDiceRandomVar"
      ]
     },
     "execution_count": 19,
     "metadata": {},
     "output_type": "execute_result"
    }
   ],
   "source": [
    "package aima.notebooks.quantifyinguncertainty;\n",
    "\n",
    "import aima.core.probability.domain.*;\n",
    "import aima.core.probability.*;\n",
    "import java.util.*;\n",
    "\n",
    "class TotalDiceRandomVar implements RandomVariable {\n",
    "    String name;\n",
    "    Domain domain;\n",
    "    \n",
    "    public TotalDiceRandomVar(String name, Domain domain){\n",
    "        this.name = name;\n",
    "        this.domain = domain;\n",
    "    }\n",
    "    \n",
    "    @Override\n",
    "    public Domain getDomain(){\n",
    "        return this.domain;\n",
    "    }\n",
    "    \n",
    "    @Override\n",
    "    public String getName(){\n",
    "        return this.name;\n",
    "    }\n",
    "    \n",
    "} \n"
   ]
  },
  {
   "cell_type": "code",
   "execution_count": 20,
   "metadata": {},
   "outputs": [
    {
     "name": "stdout",
     "output_type": "stream",
     "text": [
      "Name = Total\n",
      "Domain = [2, 3, 4, 5, 6, 7, 8, 9, 10, 11, 12]\n"
     ]
    },
    {
     "data": {
      "text/plain": [
       "null"
      ]
     },
     "execution_count": 20,
     "metadata": {},
     "output_type": "execute_result"
    }
   ],
   "source": [
    "package aima.notebooks.quantifyinguncertainty;\n",
    "import aima.core.probability.domain.*;\n",
    "import aima.core.probability.*;\n",
    "\n",
    "TotalDiceDomain totalDomain = new TotalDiceDomain();\n",
    "RandomVariable totalDiceRandomVar = new TotalDiceRandomVar(\"Total\",totalDomain);\n",
    "System.out.println(\"Name = \"+ totalDiceRandomVar.getName());\n",
    "System.out.println(\"Domain = \" + totalDomain.getPossibleValues().toString());"
   ]
  },
  {
   "cell_type": "markdown",
   "metadata": {},
   "source": [
    "The above implementations can also be carried out using existing APIs from the code repository, Foe instance, the totalDiceDomain and the totalDiceRandomVar can be easily implemented as follows."
   ]
  },
  {
   "cell_type": "code",
   "execution_count": 21,
   "metadata": {},
   "outputs": [
    {
     "name": "stdout",
     "output_type": "stream",
     "text": [
      "Total\n",
      "[2, 3, 4, 5, 6, 7, 8, 9, 10, 11, 12]\n"
     ]
    },
    {
     "data": {
      "text/plain": [
       "null"
      ]
     },
     "execution_count": 21,
     "metadata": {},
     "output_type": "execute_result"
    }
   ],
   "source": [
    "package aima.notebooks.quantifyinguncertainty;\n",
    "\n",
    "import aima.core.probability.domain.*;\n",
    "import aima.core.probability.*;\n",
    "import aima.core.probability.util.*;\n",
    "\n",
    "FiniteIntegerDomain totalDiceDomain = new FiniteIntegerDomain(2,3,4,5,6,7,8,9,10,11,12);\n",
    "RandVar totalRandomVariable = new RandVar(\"Total\", totalDiceDomain);\n",
    "\n",
    "System.out.println(totalRandomVariable);\n",
    "System.out.println(totalRandomVariable.getDomain());\n"
   ]
  },
  {
   "cell_type": "markdown",
   "metadata": {},
   "source": [
    "Let us look how to create a Probability Model. To create a ProbabilityModel, we have to implement the ProbabilityModel interface from the code. The following is the ProbabilityModelInterface :\n",
    "\n",
    "````java\n",
    "public interface ProbabilityModel {\n",
    "\t/**\n",
    "\t * The default threshold for rounding errors. Example, to test if\n",
    "\t * probabilities sum to 1:<br>\n",
    "\t * <br>\n",
    "\t * Math.abs(1 - probabilitySum) <\n",
    "\t * ProbabilityModel.DEFAULT_ROUNDING_THRESHOLD;\n",
    "\t */\n",
    "\tfinal double DEFAULT_ROUNDING_THRESHOLD = 1e-8;\n",
    "\n",
    "\t/**\n",
    "\t * \n",
    "\t * @return true, if 0 <= P(&omega;) <= 1 for every &omega; and\n",
    "\t *         &sum;<sub>&omega; &isin; &Omega;</sub> P(&omega;) = 1 (Equation\n",
    "\t *         13.1 pg. 484 AIMA3e), false otherwise.\n",
    "\t */\n",
    "\tboolean isValid();\n",
    "\n",
    "\t/**\n",
    "\t * For any proposition &phi;, P(&phi;) = &sum;<sub>&omega; &isin;\n",
    "\t * &phi;</sub> P(&omega;). Refer to equation 13.2 page 485 of AIMA3e.\n",
    "\t * Probabilities such as P(Total = 11) and P(doubles) are called\n",
    "\t * unconditional or prior probabilities (and sometimes just \"priors\" for\n",
    "\t * short); they refer to degrees of belief in propositions in the absence of\n",
    "\t * any other information.\n",
    "\t * \n",
    "\t * @param phi\n",
    "\t *            the propositional terms for which a probability value is to be\n",
    "\t *            returned.\n",
    "\t * @return the probability of the proposition &phi;.\n",
    "\t */\n",
    "\tdouble prior(Proposition... phi);\n",
    "\n",
    "\t/**\n",
    "\t * Unlike unconditional or prior probabilities, most of the time we have\n",
    "\t * some information, usually called evidence, that has already been\n",
    "\t * revealed. This is the conditional or posterior probability (or just\n",
    "\t * \"posterior\" for short). Mathematically speaking, conditional\n",
    "\t * probabilities are defined in terms of unconditional probabilities as\n",
    "\t * follows, for any propositions a and b, we have:<br>\n",
    "\t * <br>\n",
    "\t * P(a | b) = P(a AND b)/P(b)<br>\n",
    "\t * <br>\n",
    "\t * which holds whenever P(b) > 0. Refer to equation 13.3 page 485 of AIMA3e.\n",
    "\t * This can be rewritten in a different form called the <b>product rule</b>: <br>\n",
    "\t * <br>\n",
    "\t * P(a AND b) = P(a | b)P(b)<br>\n",
    "\t * <br>\n",
    "\t * and also as:<br>\n",
    "\t * <br>\n",
    "\t * P(a AND b) = P(b | a)P(a)<br>\n",
    "\t * <br>\n",
    "\t * whereby, equating the two right-hand sides and dividing by P(a) gives you\n",
    "\t * Bayes' rule:<br>\n",
    "\t * <br>\n",
    "\t * P(b | a) = (P(a | b)P(b))/P(a) - i.e. (likelihood * prior)/evidence\n",
    "\t * \n",
    "\t * @param phi\n",
    "\t *            the proposition for which a probability value is to be\n",
    "\t *            returned.\n",
    "\t * @param evidence\n",
    "\t *            information we already have.\n",
    "\t * @return the probability of the proposition &phi; given evidence.\n",
    "\t */\n",
    "\tdouble posterior(Proposition phi, Proposition... evidence);\n",
    "\n",
    "\t/**\n",
    "\t * @return a consistent ordered Set (e.g. LinkedHashSet) of the random\n",
    "\t *         variables describing the atomic variable/value pairs this\n",
    "\t *         probability model can take on. Refer to pg. 486 AIMA3e.\n",
    "\t */\n",
    "\tSet<RandomVariable> getRepresentation();\n",
    "````"
   ]
  },
  {
   "attachments": {
    "image.png": {
     "image/png": "[encoded data removed]"
    }
   },
   "cell_type": "markdown",
   "metadata": {},
   "source": [
    "Sometimes we will want to talk about the probabilities of all the possible values of a random\n",
    "variable. We could write:\n",
    "\n",
    "P (Weather = sunny) = 0.6\n",
    "\n",
    "P (Weather = rain) = 0.1\n",
    "\n",
    "P (Weather = cloudy) = 0.29\n",
    "\n",
    "P (Weather = snow ) = 0.01\n",
    "\n",
    "but as an abbreviation we will allow\n",
    "\n",
    "**P**(Weather ) = $\\langle 0.6, 0.1, 0.29, 0.01 \\rangle $\n",
    "\n",
    "where the bold **P** indicates that the result is a vector of numbers, and where we assume a pre-\n",
    "defined ordering $\\langle$sunny, rain, cloudy , snow $\\rangle$ on the domain of Weather . We say that the\n",
    "P statement defines a probability distribution for the random variable Weather. In addition to distributions on single variables, we need notation for distributions on\n",
    "multiple variables. Commas are used for this. For example, **P**(Weather , Cavity) denotes\n",
    "the probabilities of all combinations of the values of Weather and Cavity. This is a 4 × 2\n",
    "table of probabilities called the joint probability distribution of Weather and Cavity. We can use the `ProbabilityTable` class from the code repository to create joint distributions. Let's see how we can encode the joint probability distribution of the following table :\n",
    "\n",
    "![image.png](attachment:image.png)"
   ]
  },
  {
   "cell_type": "code",
   "execution_count": 22,
   "metadata": {},
   "outputs": [
    {
     "name": "stdout",
     "output_type": "stream",
     "text": [
      "Joint Distribution = <0.108, 0.012, 0.016, 0.064, 0.072, 0.008, 0.144, 0.576>\n",
      "Probability of having cavity and toothache but not of catch = 0.012\n"
     ]
    },
    {
     "data": {
      "text/plain": [
       "null"
      ]
     },
     "execution_count": 22,
     "metadata": {},
     "output_type": "execute_result"
    }
   ],
   "source": [
    "package aima.notebooks.quantifyinguncertainty;\n",
    "\n",
    "import aima.core.probability.domain.*;\n",
    "import aima.core.probability.*;\n",
    "import aima.core.probability.util.*;\n",
    "import aima.core.probability.proposition.*;\n",
    "\n",
    "// First we define the random variables\n",
    "RandVar cavityRv = new RandVar(\"Cavity\", new BooleanDomain());\n",
    "RandVar toothacheRv = new RandVar(\"Toothache\", new BooleanDomain());\n",
    "RandVar catchRv = new RandVar(\"Catch\", new BooleanDomain());\n",
    "\n",
    "\n",
    "ProbabilityTable jointDistribution = new ProbabilityTable(\n",
    "            new double[] {\n",
    "\t\t\t\t// Toothache = true, Cavity = true, Catch = true\n",
    "\t\t\t\t0.108,\n",
    "\t\t\t\t// Toothache = true, Cavity = true, Catch = false\n",
    "\t\t\t\t0.012,\n",
    "\t\t\t\t// Toothache = true, Cavity = false, Catch = true\n",
    "\t\t\t\t0.016,\n",
    "\t\t\t\t// Toothache = true, Cavity = false, Catch = false\n",
    "\t\t\t\t0.064,\n",
    "\t\t\t\t// Toothache = false, Cavity = true, Catch = true\n",
    "\t\t\t\t0.072,\n",
    "\t\t\t\t// Toothache = false, Cavity = true, Catch = false\n",
    "\t\t\t\t0.008,\n",
    "\t\t\t\t// Toothache = false, Cavity = false, Catch = true\n",
    "\t\t\t\t0.144,\n",
    "\t\t\t\t// Toothache = false, Cavity = false, Catch = false\n",
    "\t\t\t\t0.576 },\n",
    "                    toothacheRv,cavityRv,catchRv);\n",
    "\n",
    "// The values are assigned as follows :\n",
    "// First the last random variable is assigned all the possible values and then the second last and so on.\n",
    "System.out.println(\"Joint Distribution = \"+jointDistribution.toString());\n",
    "\n",
    "// We can then ask about any subset of the jointDistribution\n",
    "// Lets ask about the probability of having a toothache and cavity but not of catch\n",
    "// We will use the AssignmentProposition class for assigning the values to the random variables.\n",
    "AssignmentProposition toothache = new AssignmentProposition(toothacheRv,true);\n",
    "AssignmentProposition cavity = new AssignmentProposition(cavityRv,true);\n",
    "AssignmentProposition catchVal = new AssignmentProposition(catchRv,false);\n",
    "System.out.println(\"Probability of having cavity and toothache but not of catch = \" +\n",
    "                   jointDistribution.getValue(toothache,cavity,catchVal));"
   ]
  },
  {
   "cell_type": "markdown",
   "metadata": {},
   "source": [
    "From the preceding definition of possible worlds, it follows that a probability model is\n",
    "completely determined by the joint distribution for all of the random variables—the so-called\n",
    "**full joint probability distribution**. For example, if the variables are Cavity, Toothache ,\n",
    "and Weather , then the full joint distribution is given by P(Cavity, Toothache , Weather ).\n",
    "This joint distribution can be represented as a 2 × 2 × 4 table with 16 entries. the above example represents the full joint distribution of a similar case. To encode a probability model using a full joint distribiution we can use the `FullJointDistributionModel` class from the code repo as follows :"
   ]
  },
  {
   "cell_type": "code",
   "execution_count": 23,
   "metadata": {},
   "outputs": [
    {
     "name": "stdout",
     "output_type": "stream",
     "text": [
      "The random variables in the model = [Toothache, Cavity, Catch]\n",
      "The prior probability of having a toothache = 0.2\n",
      "The prior probability of having a cavity = 0.2\n",
      "The probability of having a cavity and toothache simultaneously is = 0.12\n",
      "The probability of having a toothache given that the person has a cavity(causal direction) is = 0.6\n",
      "The probability of having a cavity given that the person is experiencing toothache(diagnostic direction) is = 0.6\n"
     ]
    },
    {
     "data": {
      "text/plain": [
       "null"
      ]
     },
     "execution_count": 23,
     "metadata": {},
     "output_type": "execute_result"
    }
   ],
   "source": [
    "package aima.notebooks.quantifyinguncertainty;\n",
    "\n",
    "import aima.core.probability.domain.*;\n",
    "import aima.core.probability.*;\n",
    "import aima.core.probability.util.*;\n",
    "import aima.core.probability.proposition.*;\n",
    "import aima.core.probability.full.*;\n",
    "\n",
    "// First we define the random variables\n",
    "RandVar cavityRv = new RandVar(\"Cavity\", new BooleanDomain());\n",
    "RandVar toothacheRv = new RandVar(\"Toothache\", new BooleanDomain());\n",
    "RandVar catchRv = new RandVar(\"Catch\", new BooleanDomain());\n",
    "\n",
    "\n",
    "// Create the full joint distribution from the table given above.\n",
    "FullJointDistributionModel model = new FullJointDistributionModel(\n",
    "                            new double[] {\n",
    "\t\t\t\t// Toothache = true, Cavity = true, Catch = true\n",
    "\t\t\t\t0.108,\n",
    "\t\t\t\t// Toothache = true, Cavity = true, Catch = false\n",
    "\t\t\t\t0.012,\n",
    "\t\t\t\t// Toothache = true, Cavity = false, Catch = true\n",
    "\t\t\t\t0.016,\n",
    "\t\t\t\t// Toothache = true, Cavity = false, Catch = false\n",
    "\t\t\t\t0.064,\n",
    "\t\t\t\t// Toothache = false, Cavity = true, Catch = true\n",
    "\t\t\t\t0.072,\n",
    "\t\t\t\t// Toothache = false, Cavity = true, Catch = false\n",
    "\t\t\t\t0.008,\n",
    "\t\t\t\t// Toothache = false, Cavity = false, Catch = true\n",
    "\t\t\t\t0.144,\n",
    "\t\t\t\t// Toothache = false, Cavity = false, Catch = false\n",
    "\t\t\t\t0.576 },\n",
    "                    toothacheRv,cavityRv,catchRv);\n",
    "// Let's define a few assignments\n",
    "AssignmentProposition toothache = new AssignmentProposition(toothacheRv,true);\n",
    "AssignmentProposition cavity = new AssignmentProposition(cavityRv,true);\n",
    "// Now let's have a look at what we can do with the model.\n",
    "// To print the random variables in the model\n",
    "System.out.println(\"The random variables in the model = \" + model.getRepresentation());\n",
    "// We can calculate the prior probabilities of a variety of combinations of random variables\n",
    "System.out.println(\"The prior probability of having a toothache = \"+ model.prior(toothache));\n",
    "System.out.println(\"The prior probability of having a cavity = \"+ model.prior(cavity));\n",
    "System.out.println(\"The probability of having a cavity and toothache simultaneously is = \"+ model.prior(toothache, cavity));\n",
    "// We can also calculate a variety of posterior probabilities from the model as follows\n",
    "System.out.println(\"The probability of having a toothache given that the person has a cavity(causal direction) is = \"+ \n",
    "                  model.posterior(toothache,cavity));\n",
    "System.out.println(\"The probability of having a cavity given that the person is experiencing toothache(diagnostic direction) is = \"\n",
    "                  + model.posterior(cavity,toothache));\n"
   ]
  },
  {
   "cell_type": "markdown",
   "metadata": {},
   "source": [
    "## Inference using full joint distributions\n",
    "\n",
    "The basic ideas of inference using full joint distributions have been covered in the previous cell. However, let's visit those ideas iteratively once again. **Probabilistic inference** can be defined as the computation of posterior probabilities for query propositions given observed evidence. We use the\n",
    "full joint distribution as the “knowledge base” from which answers to all questions may be de-\n",
    "rived.\n",
    "\n",
    "We will reuse the previous example: a domain consisting of just the three Boolean variables\n",
    "Toothache , Cavity, and Catch (the dentist’s nasty steel probe catches in my tooth). The full\n",
    "joint distribution is a 2 × 2 × 2 the table above.\n",
    "One particularly common task is to extract the distribution over some subset of variables or\n",
    "a single variable. For example, adding the entries in the first row gives the unconditional or\n",
    "**marginal probability** of cavity:\n",
    "\n",
    "P (cavity) = 0.108 + 0.012 + 0.072 + 0.008 = 0.2\n",
    "\n",
    "This process is called marginalization, or summing out—because we sum up the probabil-\n",
    "ities for each possible value of the other variables, thereby taking them out of the equation.\n",
    "\n",
    "In most cases, we are interested in computing conditional probabilities of some vari-\n",
    "ables, given evidence about others. Conditional probabilities can be found by first using the definition of conditional probability to obtain an expression in terms of unconditional probabilities and then evaluating the expression from the full joint distribution. For example, we can compute the\n",
    "probability of a cavity, given evidence of a toothache, as follows:\n",
    "\n",
    "$$P(cavity\\mid toothache) = \\frac{P(cavity\\land toothache)}{P(toothache)}$$\n",
    "\n",
    "From the above formula we can extract a general inference procedure. We begin with the case in which the query involves a single variable, X (Cavity in the example). Let **E** be the\n",
    "list of evidence variables (just Toothache in the example), let e be the list of observed values\n",
    "for them, and let Y be the remaining unobserved variables (just Catch in the example). The\n",
    "query is **P**(X | e) and can be evaluated as\n",
    "$$\\textbf{P}(X\\mid \\textbf{e}) = \\alpha\\displaystyle\\sum_{y}^{} \\textbf{P}(X,\\textbf{e,y}) $$\n",
    "\n",
    "where the summation is over all possible ys (i.e., all possible combinations of values of the\n",
    "unobserved variables Y). Notice that together the variables X, E, and Y constitute the com-\n",
    "plete set of variables for the domain, so **P**(X, **e, y**) is simply a subset of probabilities from the\n",
    "full joint distribution.\n",
    "\n",
    "All these ideas are combined together in the `prior()` and `posterior()` functions of the `FullJointDistributionModel` class and these methods can be directly used to calculate all the prior and posterior probabilities from a full joint model."
   ]
  },
  {
   "cell_type": "markdown",
   "metadata": {},
   "source": [
    "## Bayes' Rule and its applications\n",
    "\n",
    "The **product rule** can be written in the following two ways:\n",
    "\n",
    "$P(a\\land b) = P(a\\mid b)P(b)$ and $P(a\\land b) = P(b\\mid a)P(a)$\n",
    "\n",
    "On equating these two equations we arrive at the bayes rule :\n",
    "\n",
    "$$ P(a\\mid b) = \\frac{P(b\\mid a)P(a)}{P(b)}$$\n",
    "\n",
    "This simple\n",
    "equation underlies most modern AI systems for probabilistic inference.\n",
    "\n",
    "The authors have explained the importance of Bayes rule in a brilliant manner in the text. Let's steal a few lines from the text to understand it's importance.\n",
    "\n",
    "On the surface, Bayes’ rule does not seem very useful. It allows us to compute the single\n",
    "term P (b | a) in terms of three terms: P (a | b), P (b), and P (a). That seems like two steps\n",
    "backwards, but Bayes’ rule is useful in practice because there are many cases where we do\n",
    "have good probability estimates for these three numbers and need to compute the fourth.\n",
    "Often, we perceive as evidence the effect of some unknown cause and we would like to\n",
    "determine that cause. In that case, Bayes’ rule becomes\n",
    "\n",
    "$$ P(cause\\mid effect) = \\frac{P(effect\\mid cause)P(cause)}{P(effect)}$$\n",
    "\n",
    "The conditional probability P (effect | cause) quantifies the relationship in the **causal direction**, whereas P (cause | effect) describes the **diagnostic direction**. In a task such as medical\n",
    "diagnosis, we often have conditional probabilities on causal relationships (that is, the doctor\n",
    "knows P (symptoms | disease)) and want to derive a diagnosis, P (disease | symptoms). For\n",
    "example, a doctor knows that the disease meningitis causes the patient to have a stiff neck,\n",
    "say, 70% of the time. The doctor also knows some unconditional facts: the prior probabil-\n",
    "ity that a patient has meningitis is 1/50,000, , and the prior probability that any patient has a\n",
    "stiff neck is 1%. Letting s be the proposition that the patient has a stiff neck and m be the\n",
    "proposition that the patient has meningitis, we can carry out the following diagnosis :\n",
    "$$P(s \\mid m) = 0.7 $$\n",
    "$$P(m) = 1/50000 $$\n",
    "$$ P(s) = 0.01 $$\n",
    "$$ P(m\\mid s) = \\frac{P(s\\mid m)P(m)}{P(s)} = \\frac{0.7\\times1/50000} = 0.0014 $$\n",
    "\n",
    "That is, we expect less than 1 in 700 patients with a stiff neck to have meningitis. Notice that\n",
    "even though a stiff neck is quite strongly indicated by meningitis (with probability 0.7), the\n",
    "probability of meningitis in the patient remains small. This is because the prior probability of\n",
    "stiff necks is much higher than that of meningitis.\n",
    "\n",
    "The text is filled a lot of interesting and sometimes counter intuitive examples. Students are expected to go through them."
   ]
  },
  {
   "cell_type": "markdown",
   "metadata": {},
   "source": [
    "## Using Bayes Rule\n",
    "\n",
    "We have seen that Bayes’ rule can be useful for answering probabilistic queries conditioned\n",
    "on several pieces of evidence. However, the full joint probability model that we discussed is incapable of beginning the inference procedure with a given set of posterier probabilities. To work with bayes rule, we need models that can work easily with conditional probabilities and at the same time can scale up to accomodate increasing evidence.\n",
    "\n",
    "Given a full joint distribution model of a particular system we can carry out inference using the techniques listed in this notebook and demonstrated with the use of cavity example. In the next few notebooks, we will learn a powerful way to utilise Bayes' Theorem in the form of **Bayesian Networks**."
   ]
  },
  {
   "cell_type": "code",
   "execution_count": null,
   "metadata": {},
   "outputs": [],
   "source": []
  }
 ],
 "metadata": {
  "kernelspec": {
   "display_name": "Java",
   "language": "java",
   "name": "java"
  },
  "language_info": {
   "codemirror_mode": "text/x-java",
   "file_extension": ".java",
   "mimetype": "",
   "name": "Java",
   "nbconverter_exporter": "",
   "version": "1.8.0_161"
  },
  "toc": {
   "base_numbering": 1,
   "nav_menu": {},
   "number_sections": false,
   "sideBar": false,
   "skip_h1_title": false,
   "title_cell": "Table of Contents",
   "title_sidebar": "Contents",
   "toc_cell": false,
   "toc_position": {},
   "toc_section_display": false,
   "toc_window_display": false
  }
 },
 "nbformat": 4,
 "nbformat_minor": 2
}
